{
  "nbformat": 4,
  "nbformat_minor": 0,
  "metadata": {
    "colab": {
      "provenance": [],
      "collapsed_sections": [
        "oVfzAV_aJqe6",
        "NfhrkidyMf7f"
      ],
      "gpuType": "T4",
      "authorship_tag": "ABX9TyPtjbyu+Q3AnN5hi1pJV/ki",
      "include_colab_link": true
    },
    "kernelspec": {
      "name": "python3",
      "display_name": "Python 3"
    },
    "language_info": {
      "name": "python"
    },
    "widgets": {
      "application/vnd.jupyter.widget-state+json": {
        "192570b0dd2a4260aee8c0df9eb95524": {
          "model_module": "@jupyter-widgets/controls",
          "model_name": "HBoxModel",
          "model_module_version": "1.5.0",
          "state": {
            "_dom_classes": [],
            "_model_module": "@jupyter-widgets/controls",
            "_model_module_version": "1.5.0",
            "_model_name": "HBoxModel",
            "_view_count": null,
            "_view_module": "@jupyter-widgets/controls",
            "_view_module_version": "1.5.0",
            "_view_name": "HBoxView",
            "box_style": "",
            "children": [
              "IPY_MODEL_c8443f0ee3ec4bb6bfe7d89c4a8dba1b",
              "IPY_MODEL_23fe9c24d1f14f17958fdcfa0d823536",
              "IPY_MODEL_0e06fce611644cc48216876f06c1c3f8"
            ],
            "layout": "IPY_MODEL_67831414f53040e883f2e1f1416639b0"
          }
        },
        "c8443f0ee3ec4bb6bfe7d89c4a8dba1b": {
          "model_module": "@jupyter-widgets/controls",
          "model_name": "HTMLModel",
          "model_module_version": "1.5.0",
          "state": {
            "_dom_classes": [],
            "_model_module": "@jupyter-widgets/controls",
            "_model_module_version": "1.5.0",
            "_model_name": "HTMLModel",
            "_view_count": null,
            "_view_module": "@jupyter-widgets/controls",
            "_view_module_version": "1.5.0",
            "_view_name": "HTMLView",
            "description": "",
            "description_tooltip": null,
            "layout": "IPY_MODEL_9f925d4f010a4167a906bcb8af24af0a",
            "placeholder": "​",
            "style": "IPY_MODEL_be5ecb4964c942afbcf9bf864a74c530",
            "value": "Processing: 100%"
          }
        },
        "23fe9c24d1f14f17958fdcfa0d823536": {
          "model_module": "@jupyter-widgets/controls",
          "model_name": "FloatProgressModel",
          "model_module_version": "1.5.0",
          "state": {
            "_dom_classes": [],
            "_model_module": "@jupyter-widgets/controls",
            "_model_module_version": "1.5.0",
            "_model_name": "FloatProgressModel",
            "_view_count": null,
            "_view_module": "@jupyter-widgets/controls",
            "_view_module_version": "1.5.0",
            "_view_name": "ProgressView",
            "bar_style": "",
            "description": "",
            "description_tooltip": null,
            "layout": "IPY_MODEL_767f7785b7154ee4abe27580f577d7fc",
            "max": 65,
            "min": 0,
            "orientation": "horizontal",
            "style": "IPY_MODEL_f14de0a64a4245c18a80e53d84217bc2",
            "value": 65
          }
        },
        "0e06fce611644cc48216876f06c1c3f8": {
          "model_module": "@jupyter-widgets/controls",
          "model_name": "HTMLModel",
          "model_module_version": "1.5.0",
          "state": {
            "_dom_classes": [],
            "_model_module": "@jupyter-widgets/controls",
            "_model_module_version": "1.5.0",
            "_model_name": "HTMLModel",
            "_view_count": null,
            "_view_module": "@jupyter-widgets/controls",
            "_view_module_version": "1.5.0",
            "_view_name": "HTMLView",
            "description": "",
            "description_tooltip": null,
            "layout": "IPY_MODEL_1a3fae712a7742c2b9e355418b971e50",
            "placeholder": "​",
            "style": "IPY_MODEL_04fc703d82be4c25adb676477e1cee19",
            "value": " 65/65 [1:56:50&lt;00:00, 43.53s/it]"
          }
        },
        "67831414f53040e883f2e1f1416639b0": {
          "model_module": "@jupyter-widgets/base",
          "model_name": "LayoutModel",
          "model_module_version": "1.2.0",
          "state": {
            "_model_module": "@jupyter-widgets/base",
            "_model_module_version": "1.2.0",
            "_model_name": "LayoutModel",
            "_view_count": null,
            "_view_module": "@jupyter-widgets/base",
            "_view_module_version": "1.2.0",
            "_view_name": "LayoutView",
            "align_content": null,
            "align_items": null,
            "align_self": null,
            "border": null,
            "bottom": null,
            "display": null,
            "flex": null,
            "flex_flow": null,
            "grid_area": null,
            "grid_auto_columns": null,
            "grid_auto_flow": null,
            "grid_auto_rows": null,
            "grid_column": null,
            "grid_gap": null,
            "grid_row": null,
            "grid_template_areas": null,
            "grid_template_columns": null,
            "grid_template_rows": null,
            "height": null,
            "justify_content": null,
            "justify_items": null,
            "left": null,
            "margin": null,
            "max_height": null,
            "max_width": null,
            "min_height": null,
            "min_width": null,
            "object_fit": null,
            "object_position": null,
            "order": null,
            "overflow": null,
            "overflow_x": null,
            "overflow_y": null,
            "padding": null,
            "right": null,
            "top": null,
            "visibility": "hidden",
            "width": null
          }
        },
        "9f925d4f010a4167a906bcb8af24af0a": {
          "model_module": "@jupyter-widgets/base",
          "model_name": "LayoutModel",
          "model_module_version": "1.2.0",
          "state": {
            "_model_module": "@jupyter-widgets/base",
            "_model_module_version": "1.2.0",
            "_model_name": "LayoutModel",
            "_view_count": null,
            "_view_module": "@jupyter-widgets/base",
            "_view_module_version": "1.2.0",
            "_view_name": "LayoutView",
            "align_content": null,
            "align_items": null,
            "align_self": null,
            "border": null,
            "bottom": null,
            "display": null,
            "flex": null,
            "flex_flow": null,
            "grid_area": null,
            "grid_auto_columns": null,
            "grid_auto_flow": null,
            "grid_auto_rows": null,
            "grid_column": null,
            "grid_gap": null,
            "grid_row": null,
            "grid_template_areas": null,
            "grid_template_columns": null,
            "grid_template_rows": null,
            "height": null,
            "justify_content": null,
            "justify_items": null,
            "left": null,
            "margin": null,
            "max_height": null,
            "max_width": null,
            "min_height": null,
            "min_width": null,
            "object_fit": null,
            "object_position": null,
            "order": null,
            "overflow": null,
            "overflow_x": null,
            "overflow_y": null,
            "padding": null,
            "right": null,
            "top": null,
            "visibility": null,
            "width": null
          }
        },
        "be5ecb4964c942afbcf9bf864a74c530": {
          "model_module": "@jupyter-widgets/controls",
          "model_name": "DescriptionStyleModel",
          "model_module_version": "1.5.0",
          "state": {
            "_model_module": "@jupyter-widgets/controls",
            "_model_module_version": "1.5.0",
            "_model_name": "DescriptionStyleModel",
            "_view_count": null,
            "_view_module": "@jupyter-widgets/base",
            "_view_module_version": "1.2.0",
            "_view_name": "StyleView",
            "description_width": ""
          }
        },
        "767f7785b7154ee4abe27580f577d7fc": {
          "model_module": "@jupyter-widgets/base",
          "model_name": "LayoutModel",
          "model_module_version": "1.2.0",
          "state": {
            "_model_module": "@jupyter-widgets/base",
            "_model_module_version": "1.2.0",
            "_model_name": "LayoutModel",
            "_view_count": null,
            "_view_module": "@jupyter-widgets/base",
            "_view_module_version": "1.2.0",
            "_view_name": "LayoutView",
            "align_content": null,
            "align_items": null,
            "align_self": null,
            "border": null,
            "bottom": null,
            "display": null,
            "flex": null,
            "flex_flow": null,
            "grid_area": null,
            "grid_auto_columns": null,
            "grid_auto_flow": null,
            "grid_auto_rows": null,
            "grid_column": null,
            "grid_gap": null,
            "grid_row": null,
            "grid_template_areas": null,
            "grid_template_columns": null,
            "grid_template_rows": null,
            "height": null,
            "justify_content": null,
            "justify_items": null,
            "left": null,
            "margin": null,
            "max_height": null,
            "max_width": null,
            "min_height": null,
            "min_width": null,
            "object_fit": null,
            "object_position": null,
            "order": null,
            "overflow": null,
            "overflow_x": null,
            "overflow_y": null,
            "padding": null,
            "right": null,
            "top": null,
            "visibility": null,
            "width": null
          }
        },
        "f14de0a64a4245c18a80e53d84217bc2": {
          "model_module": "@jupyter-widgets/controls",
          "model_name": "ProgressStyleModel",
          "model_module_version": "1.5.0",
          "state": {
            "_model_module": "@jupyter-widgets/controls",
            "_model_module_version": "1.5.0",
            "_model_name": "ProgressStyleModel",
            "_view_count": null,
            "_view_module": "@jupyter-widgets/base",
            "_view_module_version": "1.2.0",
            "_view_name": "StyleView",
            "bar_color": null,
            "description_width": ""
          }
        },
        "1a3fae712a7742c2b9e355418b971e50": {
          "model_module": "@jupyter-widgets/base",
          "model_name": "LayoutModel",
          "model_module_version": "1.2.0",
          "state": {
            "_model_module": "@jupyter-widgets/base",
            "_model_module_version": "1.2.0",
            "_model_name": "LayoutModel",
            "_view_count": null,
            "_view_module": "@jupyter-widgets/base",
            "_view_module_version": "1.2.0",
            "_view_name": "LayoutView",
            "align_content": null,
            "align_items": null,
            "align_self": null,
            "border": null,
            "bottom": null,
            "display": null,
            "flex": null,
            "flex_flow": null,
            "grid_area": null,
            "grid_auto_columns": null,
            "grid_auto_flow": null,
            "grid_auto_rows": null,
            "grid_column": null,
            "grid_gap": null,
            "grid_row": null,
            "grid_template_areas": null,
            "grid_template_columns": null,
            "grid_template_rows": null,
            "height": null,
            "justify_content": null,
            "justify_items": null,
            "left": null,
            "margin": null,
            "max_height": null,
            "max_width": null,
            "min_height": null,
            "min_width": null,
            "object_fit": null,
            "object_position": null,
            "order": null,
            "overflow": null,
            "overflow_x": null,
            "overflow_y": null,
            "padding": null,
            "right": null,
            "top": null,
            "visibility": null,
            "width": null
          }
        },
        "04fc703d82be4c25adb676477e1cee19": {
          "model_module": "@jupyter-widgets/controls",
          "model_name": "DescriptionStyleModel",
          "model_module_version": "1.5.0",
          "state": {
            "_model_module": "@jupyter-widgets/controls",
            "_model_module_version": "1.5.0",
            "_model_name": "DescriptionStyleModel",
            "_view_count": null,
            "_view_module": "@jupyter-widgets/base",
            "_view_module_version": "1.2.0",
            "_view_name": "StyleView",
            "description_width": ""
          }
        },
        "162091872cb848f4bccda8ae10a9e575": {
          "model_module": "@jupyter-widgets/controls",
          "model_name": "VBoxModel",
          "model_module_version": "1.5.0",
          "state": {
            "_dom_classes": [
              "widget-interact"
            ],
            "_model_module": "@jupyter-widgets/controls",
            "_model_module_version": "1.5.0",
            "_model_name": "VBoxModel",
            "_view_count": null,
            "_view_module": "@jupyter-widgets/controls",
            "_view_module_version": "1.5.0",
            "_view_name": "VBoxView",
            "box_style": "",
            "children": [
              "IPY_MODEL_790a0ebb8cc141d6841674e7e6711b50",
              "IPY_MODEL_25b6850ca6bf48c194effa7e5befb109"
            ],
            "layout": "IPY_MODEL_29887e87c5a6426187bc9437c9f926f7"
          }
        },
        "790a0ebb8cc141d6841674e7e6711b50": {
          "model_module": "@jupyter-widgets/controls",
          "model_name": "ToggleButtonsModel",
          "model_module_version": "1.5.0",
          "state": {
            "_dom_classes": [],
            "_model_module": "@jupyter-widgets/controls",
            "_model_module_version": "1.5.0",
            "_model_name": "ToggleButtonsModel",
            "_options_labels": [
              "Pipeline Plot",
              "Hyperparameters",
              "AUC",
              "Confusion Matrix",
              "Threshold",
              "Precision Recall",
              "Prediction Error",
              "Class Report",
              "Feature Selection",
              "Learning Curve",
              "Manifold Learning",
              "Calibration Curve",
              "Validation Curve",
              "Dimensions",
              "Feature Importance",
              "Feature Importance (All)",
              "Decision Boundary",
              "Lift Chart",
              "Gain Chart",
              "Decision Tree",
              "KS Statistic Plot"
            ],
            "_view_count": null,
            "_view_module": "@jupyter-widgets/controls",
            "_view_module_version": "1.5.0",
            "_view_name": "ToggleButtonsView",
            "button_style": "",
            "description": "Plot Type:",
            "description_tooltip": null,
            "disabled": false,
            "icons": [
              ""
            ],
            "index": 3,
            "layout": "IPY_MODEL_1baf3f92226647dd96a509e9a907acd9",
            "style": "IPY_MODEL_bf045cb1e6d04bc8b942574333047672",
            "tooltips": []
          }
        },
        "25b6850ca6bf48c194effa7e5befb109": {
          "model_module": "@jupyter-widgets/output",
          "model_name": "OutputModel",
          "model_module_version": "1.0.0",
          "state": {
            "_dom_classes": [],
            "_model_module": "@jupyter-widgets/output",
            "_model_module_version": "1.0.0",
            "_model_name": "OutputModel",
            "_view_count": null,
            "_view_module": "@jupyter-widgets/output",
            "_view_module_version": "1.0.0",
            "_view_name": "OutputView",
            "layout": "IPY_MODEL_f41de583d8ec4c449426f8d942299947",
            "msg_id": "",
            "outputs": [
              {
                "output_type": "display_data",
                "data": {
                  "text/plain": "<Figure size 800x550 with 1 Axes>",
                  "image/png": "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\n"
                },
                "metadata": {}
              }
            ]
          }
        },
        "29887e87c5a6426187bc9437c9f926f7": {
          "model_module": "@jupyter-widgets/base",
          "model_name": "LayoutModel",
          "model_module_version": "1.2.0",
          "state": {
            "_model_module": "@jupyter-widgets/base",
            "_model_module_version": "1.2.0",
            "_model_name": "LayoutModel",
            "_view_count": null,
            "_view_module": "@jupyter-widgets/base",
            "_view_module_version": "1.2.0",
            "_view_name": "LayoutView",
            "align_content": null,
            "align_items": null,
            "align_self": null,
            "border": null,
            "bottom": null,
            "display": null,
            "flex": null,
            "flex_flow": null,
            "grid_area": null,
            "grid_auto_columns": null,
            "grid_auto_flow": null,
            "grid_auto_rows": null,
            "grid_column": null,
            "grid_gap": null,
            "grid_row": null,
            "grid_template_areas": null,
            "grid_template_columns": null,
            "grid_template_rows": null,
            "height": null,
            "justify_content": null,
            "justify_items": null,
            "left": null,
            "margin": null,
            "max_height": null,
            "max_width": null,
            "min_height": null,
            "min_width": null,
            "object_fit": null,
            "object_position": null,
            "order": null,
            "overflow": null,
            "overflow_x": null,
            "overflow_y": null,
            "padding": null,
            "right": null,
            "top": null,
            "visibility": null,
            "width": null
          }
        },
        "1baf3f92226647dd96a509e9a907acd9": {
          "model_module": "@jupyter-widgets/base",
          "model_name": "LayoutModel",
          "model_module_version": "1.2.0",
          "state": {
            "_model_module": "@jupyter-widgets/base",
            "_model_module_version": "1.2.0",
            "_model_name": "LayoutModel",
            "_view_count": null,
            "_view_module": "@jupyter-widgets/base",
            "_view_module_version": "1.2.0",
            "_view_name": "LayoutView",
            "align_content": null,
            "align_items": null,
            "align_self": null,
            "border": null,
            "bottom": null,
            "display": null,
            "flex": null,
            "flex_flow": null,
            "grid_area": null,
            "grid_auto_columns": null,
            "grid_auto_flow": null,
            "grid_auto_rows": null,
            "grid_column": null,
            "grid_gap": null,
            "grid_row": null,
            "grid_template_areas": null,
            "grid_template_columns": null,
            "grid_template_rows": null,
            "height": null,
            "justify_content": null,
            "justify_items": null,
            "left": null,
            "margin": null,
            "max_height": null,
            "max_width": null,
            "min_height": null,
            "min_width": null,
            "object_fit": null,
            "object_position": null,
            "order": null,
            "overflow": null,
            "overflow_x": null,
            "overflow_y": null,
            "padding": null,
            "right": null,
            "top": null,
            "visibility": null,
            "width": null
          }
        },
        "bf045cb1e6d04bc8b942574333047672": {
          "model_module": "@jupyter-widgets/controls",
          "model_name": "ToggleButtonsStyleModel",
          "model_module_version": "1.5.0",
          "state": {
            "_model_module": "@jupyter-widgets/controls",
            "_model_module_version": "1.5.0",
            "_model_name": "ToggleButtonsStyleModel",
            "_view_count": null,
            "_view_module": "@jupyter-widgets/base",
            "_view_module_version": "1.2.0",
            "_view_name": "StyleView",
            "button_width": "",
            "description_width": "",
            "font_weight": ""
          }
        },
        "f41de583d8ec4c449426f8d942299947": {
          "model_module": "@jupyter-widgets/base",
          "model_name": "LayoutModel",
          "model_module_version": "1.2.0",
          "state": {
            "_model_module": "@jupyter-widgets/base",
            "_model_module_version": "1.2.0",
            "_model_name": "LayoutModel",
            "_view_count": null,
            "_view_module": "@jupyter-widgets/base",
            "_view_module_version": "1.2.0",
            "_view_name": "LayoutView",
            "align_content": null,
            "align_items": null,
            "align_self": null,
            "border": null,
            "bottom": null,
            "display": null,
            "flex": null,
            "flex_flow": null,
            "grid_area": null,
            "grid_auto_columns": null,
            "grid_auto_flow": null,
            "grid_auto_rows": null,
            "grid_column": null,
            "grid_gap": null,
            "grid_row": null,
            "grid_template_areas": null,
            "grid_template_columns": null,
            "grid_template_rows": null,
            "height": null,
            "justify_content": null,
            "justify_items": null,
            "left": null,
            "margin": null,
            "max_height": null,
            "max_width": null,
            "min_height": null,
            "min_width": null,
            "object_fit": null,
            "object_position": null,
            "order": null,
            "overflow": null,
            "overflow_x": null,
            "overflow_y": null,
            "padding": null,
            "right": null,
            "top": null,
            "visibility": null,
            "width": null
          }
        }
      }
    }
  },
  "cells": [
    {
      "cell_type": "markdown",
      "metadata": {
        "id": "view-in-github",
        "colab_type": "text"
      },
      "source": [
        "<a href=\"https://colab.research.google.com/github/narwhalhorned/creditcard/blob/main/pycreditfraud.ipynb\" target=\"_parent\"><img src=\"https://colab.research.google.com/assets/colab-badge.svg\" alt=\"Open In Colab\"/></a>"
      ]
    },
    {
      "cell_type": "markdown",
      "source": [
        "### Setup"
      ],
      "metadata": {
        "id": "4tR4LsxYmcQV"
      }
    },
    {
      "cell_type": "code",
      "source": [
        "pip install pycaret"
      ],
      "metadata": {
        "id": "BoNZgbhng8eZ"
      },
      "execution_count": null,
      "outputs": []
    },
    {
      "cell_type": "code",
      "source": [
        "import pandas as pd\n",
        "from pycaret.classification import *\n",
        "from google.colab import drive\n",
        "import matplotlib.pyplot as plt\n",
        "import seaborn as sns\n",
        "from sklearn.metrics import confusion_matrix\n",
        "from pycaret.classification import save_model\n",
        "import joblib"
      ],
      "metadata": {
        "id": "5MdpR1KGABr0"
      },
      "execution_count": 23,
      "outputs": []
    },
    {
      "cell_type": "code",
      "source": [
        "drive.mount('/content/drive')\n",
        "file_path = '/content/drive/My Drive/data/creditcard.csv'\n",
        "df = pd.read_csv(file_path)"
      ],
      "metadata": {
        "colab": {
          "base_uri": "https://localhost:8080/"
        },
        "id": "1BXF4H3aAYHz",
        "outputId": "5de62e4b-9d83-4580-afa4-9a5f373bb992"
      },
      "execution_count": 3,
      "outputs": [
        {
          "output_type": "stream",
          "name": "stdout",
          "text": [
            "Mounted at /content/drive\n"
          ]
        }
      ]
    },
    {
      "cell_type": "code",
      "source": [
        "df.head()"
      ],
      "metadata": {
        "colab": {
          "base_uri": "https://localhost:8080/",
          "height": 256
        },
        "id": "2hOMqLkSANyn",
        "outputId": "76620f33-145f-4704-d218-88508a0be6a4"
      },
      "execution_count": 4,
      "outputs": [
        {
          "output_type": "execute_result",
          "data": {
            "text/plain": [
              "   Time        V1        V2        V3        V4        V5        V6        V7  \\\n",
              "0   0.0 -1.359807 -0.072781  2.536347  1.378155 -0.338321  0.462388  0.239599   \n",
              "1   0.0  1.191857  0.266151  0.166480  0.448154  0.060018 -0.082361 -0.078803   \n",
              "2   1.0 -1.358354 -1.340163  1.773209  0.379780 -0.503198  1.800499  0.791461   \n",
              "3   1.0 -0.966272 -0.185226  1.792993 -0.863291 -0.010309  1.247203  0.237609   \n",
              "4   2.0 -1.158233  0.877737  1.548718  0.403034 -0.407193  0.095921  0.592941   \n",
              "\n",
              "         V8        V9  ...       V21       V22       V23       V24       V25  \\\n",
              "0  0.098698  0.363787  ... -0.018307  0.277838 -0.110474  0.066928  0.128539   \n",
              "1  0.085102 -0.255425  ... -0.225775 -0.638672  0.101288 -0.339846  0.167170   \n",
              "2  0.247676 -1.514654  ...  0.247998  0.771679  0.909412 -0.689281 -0.327642   \n",
              "3  0.377436 -1.387024  ... -0.108300  0.005274 -0.190321 -1.175575  0.647376   \n",
              "4 -0.270533  0.817739  ... -0.009431  0.798278 -0.137458  0.141267 -0.206010   \n",
              "\n",
              "        V26       V27       V28  Amount  Class  \n",
              "0 -0.189115  0.133558 -0.021053  149.62      0  \n",
              "1  0.125895 -0.008983  0.014724    2.69      0  \n",
              "2 -0.139097 -0.055353 -0.059752  378.66      0  \n",
              "3 -0.221929  0.062723  0.061458  123.50      0  \n",
              "4  0.502292  0.219422  0.215153   69.99      0  \n",
              "\n",
              "[5 rows x 31 columns]"
            ],
            "text/html": [
              "\n",
              "  <div id=\"df-8a096635-b3f8-4a77-b604-6c5e14c00dbd\" class=\"colab-df-container\">\n",
              "    <div>\n",
              "<style scoped>\n",
              "    .dataframe tbody tr th:only-of-type {\n",
              "        vertical-align: middle;\n",
              "    }\n",
              "\n",
              "    .dataframe tbody tr th {\n",
              "        vertical-align: top;\n",
              "    }\n",
              "\n",
              "    .dataframe thead th {\n",
              "        text-align: right;\n",
              "    }\n",
              "</style>\n",
              "<table border=\"1\" class=\"dataframe\">\n",
              "  <thead>\n",
              "    <tr style=\"text-align: right;\">\n",
              "      <th></th>\n",
              "      <th>Time</th>\n",
              "      <th>V1</th>\n",
              "      <th>V2</th>\n",
              "      <th>V3</th>\n",
              "      <th>V4</th>\n",
              "      <th>V5</th>\n",
              "      <th>V6</th>\n",
              "      <th>V7</th>\n",
              "      <th>V8</th>\n",
              "      <th>V9</th>\n",
              "      <th>...</th>\n",
              "      <th>V21</th>\n",
              "      <th>V22</th>\n",
              "      <th>V23</th>\n",
              "      <th>V24</th>\n",
              "      <th>V25</th>\n",
              "      <th>V26</th>\n",
              "      <th>V27</th>\n",
              "      <th>V28</th>\n",
              "      <th>Amount</th>\n",
              "      <th>Class</th>\n",
              "    </tr>\n",
              "  </thead>\n",
              "  <tbody>\n",
              "    <tr>\n",
              "      <th>0</th>\n",
              "      <td>0.0</td>\n",
              "      <td>-1.359807</td>\n",
              "      <td>-0.072781</td>\n",
              "      <td>2.536347</td>\n",
              "      <td>1.378155</td>\n",
              "      <td>-0.338321</td>\n",
              "      <td>0.462388</td>\n",
              "      <td>0.239599</td>\n",
              "      <td>0.098698</td>\n",
              "      <td>0.363787</td>\n",
              "      <td>...</td>\n",
              "      <td>-0.018307</td>\n",
              "      <td>0.277838</td>\n",
              "      <td>-0.110474</td>\n",
              "      <td>0.066928</td>\n",
              "      <td>0.128539</td>\n",
              "      <td>-0.189115</td>\n",
              "      <td>0.133558</td>\n",
              "      <td>-0.021053</td>\n",
              "      <td>149.62</td>\n",
              "      <td>0</td>\n",
              "    </tr>\n",
              "    <tr>\n",
              "      <th>1</th>\n",
              "      <td>0.0</td>\n",
              "      <td>1.191857</td>\n",
              "      <td>0.266151</td>\n",
              "      <td>0.166480</td>\n",
              "      <td>0.448154</td>\n",
              "      <td>0.060018</td>\n",
              "      <td>-0.082361</td>\n",
              "      <td>-0.078803</td>\n",
              "      <td>0.085102</td>\n",
              "      <td>-0.255425</td>\n",
              "      <td>...</td>\n",
              "      <td>-0.225775</td>\n",
              "      <td>-0.638672</td>\n",
              "      <td>0.101288</td>\n",
              "      <td>-0.339846</td>\n",
              "      <td>0.167170</td>\n",
              "      <td>0.125895</td>\n",
              "      <td>-0.008983</td>\n",
              "      <td>0.014724</td>\n",
              "      <td>2.69</td>\n",
              "      <td>0</td>\n",
              "    </tr>\n",
              "    <tr>\n",
              "      <th>2</th>\n",
              "      <td>1.0</td>\n",
              "      <td>-1.358354</td>\n",
              "      <td>-1.340163</td>\n",
              "      <td>1.773209</td>\n",
              "      <td>0.379780</td>\n",
              "      <td>-0.503198</td>\n",
              "      <td>1.800499</td>\n",
              "      <td>0.791461</td>\n",
              "      <td>0.247676</td>\n",
              "      <td>-1.514654</td>\n",
              "      <td>...</td>\n",
              "      <td>0.247998</td>\n",
              "      <td>0.771679</td>\n",
              "      <td>0.909412</td>\n",
              "      <td>-0.689281</td>\n",
              "      <td>-0.327642</td>\n",
              "      <td>-0.139097</td>\n",
              "      <td>-0.055353</td>\n",
              "      <td>-0.059752</td>\n",
              "      <td>378.66</td>\n",
              "      <td>0</td>\n",
              "    </tr>\n",
              "    <tr>\n",
              "      <th>3</th>\n",
              "      <td>1.0</td>\n",
              "      <td>-0.966272</td>\n",
              "      <td>-0.185226</td>\n",
              "      <td>1.792993</td>\n",
              "      <td>-0.863291</td>\n",
              "      <td>-0.010309</td>\n",
              "      <td>1.247203</td>\n",
              "      <td>0.237609</td>\n",
              "      <td>0.377436</td>\n",
              "      <td>-1.387024</td>\n",
              "      <td>...</td>\n",
              "      <td>-0.108300</td>\n",
              "      <td>0.005274</td>\n",
              "      <td>-0.190321</td>\n",
              "      <td>-1.175575</td>\n",
              "      <td>0.647376</td>\n",
              "      <td>-0.221929</td>\n",
              "      <td>0.062723</td>\n",
              "      <td>0.061458</td>\n",
              "      <td>123.50</td>\n",
              "      <td>0</td>\n",
              "    </tr>\n",
              "    <tr>\n",
              "      <th>4</th>\n",
              "      <td>2.0</td>\n",
              "      <td>-1.158233</td>\n",
              "      <td>0.877737</td>\n",
              "      <td>1.548718</td>\n",
              "      <td>0.403034</td>\n",
              "      <td>-0.407193</td>\n",
              "      <td>0.095921</td>\n",
              "      <td>0.592941</td>\n",
              "      <td>-0.270533</td>\n",
              "      <td>0.817739</td>\n",
              "      <td>...</td>\n",
              "      <td>-0.009431</td>\n",
              "      <td>0.798278</td>\n",
              "      <td>-0.137458</td>\n",
              "      <td>0.141267</td>\n",
              "      <td>-0.206010</td>\n",
              "      <td>0.502292</td>\n",
              "      <td>0.219422</td>\n",
              "      <td>0.215153</td>\n",
              "      <td>69.99</td>\n",
              "      <td>0</td>\n",
              "    </tr>\n",
              "  </tbody>\n",
              "</table>\n",
              "<p>5 rows × 31 columns</p>\n",
              "</div>\n",
              "    <div class=\"colab-df-buttons\">\n",
              "\n",
              "  <div class=\"colab-df-container\">\n",
              "    <button class=\"colab-df-convert\" onclick=\"convertToInteractive('df-8a096635-b3f8-4a77-b604-6c5e14c00dbd')\"\n",
              "            title=\"Convert this dataframe to an interactive table.\"\n",
              "            style=\"display:none;\">\n",
              "\n",
              "  <svg xmlns=\"http://www.w3.org/2000/svg\" height=\"24px\" viewBox=\"0 -960 960 960\">\n",
              "    <path d=\"M120-120v-720h720v720H120Zm60-500h600v-160H180v160Zm220 220h160v-160H400v160Zm0 220h160v-160H400v160ZM180-400h160v-160H180v160Zm440 0h160v-160H620v160ZM180-180h160v-160H180v160Zm440 0h160v-160H620v160Z\"/>\n",
              "  </svg>\n",
              "    </button>\n",
              "\n",
              "  <style>\n",
              "    .colab-df-container {\n",
              "      display:flex;\n",
              "      gap: 12px;\n",
              "    }\n",
              "\n",
              "    .colab-df-convert {\n",
              "      background-color: #E8F0FE;\n",
              "      border: none;\n",
              "      border-radius: 50%;\n",
              "      cursor: pointer;\n",
              "      display: none;\n",
              "      fill: #1967D2;\n",
              "      height: 32px;\n",
              "      padding: 0 0 0 0;\n",
              "      width: 32px;\n",
              "    }\n",
              "\n",
              "    .colab-df-convert:hover {\n",
              "      background-color: #E2EBFA;\n",
              "      box-shadow: 0px 1px 2px rgba(60, 64, 67, 0.3), 0px 1px 3px 1px rgba(60, 64, 67, 0.15);\n",
              "      fill: #174EA6;\n",
              "    }\n",
              "\n",
              "    .colab-df-buttons div {\n",
              "      margin-bottom: 4px;\n",
              "    }\n",
              "\n",
              "    [theme=dark] .colab-df-convert {\n",
              "      background-color: #3B4455;\n",
              "      fill: #D2E3FC;\n",
              "    }\n",
              "\n",
              "    [theme=dark] .colab-df-convert:hover {\n",
              "      background-color: #434B5C;\n",
              "      box-shadow: 0px 1px 3px 1px rgba(0, 0, 0, 0.15);\n",
              "      filter: drop-shadow(0px 1px 2px rgba(0, 0, 0, 0.3));\n",
              "      fill: #FFFFFF;\n",
              "    }\n",
              "  </style>\n",
              "\n",
              "    <script>\n",
              "      const buttonEl =\n",
              "        document.querySelector('#df-8a096635-b3f8-4a77-b604-6c5e14c00dbd button.colab-df-convert');\n",
              "      buttonEl.style.display =\n",
              "        google.colab.kernel.accessAllowed ? 'block' : 'none';\n",
              "\n",
              "      async function convertToInteractive(key) {\n",
              "        const element = document.querySelector('#df-8a096635-b3f8-4a77-b604-6c5e14c00dbd');\n",
              "        const dataTable =\n",
              "          await google.colab.kernel.invokeFunction('convertToInteractive',\n",
              "                                                    [key], {});\n",
              "        if (!dataTable) return;\n",
              "\n",
              "        const docLinkHtml = 'Like what you see? Visit the ' +\n",
              "          '<a target=\"_blank\" href=https://colab.research.google.com/notebooks/data_table.ipynb>data table notebook</a>'\n",
              "          + ' to learn more about interactive tables.';\n",
              "        element.innerHTML = '';\n",
              "        dataTable['output_type'] = 'display_data';\n",
              "        await google.colab.output.renderOutput(dataTable, element);\n",
              "        const docLink = document.createElement('div');\n",
              "        docLink.innerHTML = docLinkHtml;\n",
              "        element.appendChild(docLink);\n",
              "      }\n",
              "    </script>\n",
              "  </div>\n",
              "\n",
              "\n",
              "<div id=\"df-a28c304b-62d1-4cfb-ae8f-61b6188a7604\">\n",
              "  <button class=\"colab-df-quickchart\" onclick=\"quickchart('df-a28c304b-62d1-4cfb-ae8f-61b6188a7604')\"\n",
              "            title=\"Suggest charts.\"\n",
              "            style=\"display:none;\">\n",
              "\n",
              "<svg xmlns=\"http://www.w3.org/2000/svg\" height=\"24px\"viewBox=\"0 0 24 24\"\n",
              "     width=\"24px\">\n",
              "    <g>\n",
              "        <path d=\"M19 3H5c-1.1 0-2 .9-2 2v14c0 1.1.9 2 2 2h14c1.1 0 2-.9 2-2V5c0-1.1-.9-2-2-2zM9 17H7v-7h2v7zm4 0h-2V7h2v10zm4 0h-2v-4h2v4z\"/>\n",
              "    </g>\n",
              "</svg>\n",
              "  </button>\n",
              "\n",
              "<style>\n",
              "  .colab-df-quickchart {\n",
              "      --bg-color: #E8F0FE;\n",
              "      --fill-color: #1967D2;\n",
              "      --hover-bg-color: #E2EBFA;\n",
              "      --hover-fill-color: #174EA6;\n",
              "      --disabled-fill-color: #AAA;\n",
              "      --disabled-bg-color: #DDD;\n",
              "  }\n",
              "\n",
              "  [theme=dark] .colab-df-quickchart {\n",
              "      --bg-color: #3B4455;\n",
              "      --fill-color: #D2E3FC;\n",
              "      --hover-bg-color: #434B5C;\n",
              "      --hover-fill-color: #FFFFFF;\n",
              "      --disabled-bg-color: #3B4455;\n",
              "      --disabled-fill-color: #666;\n",
              "  }\n",
              "\n",
              "  .colab-df-quickchart {\n",
              "    background-color: var(--bg-color);\n",
              "    border: none;\n",
              "    border-radius: 50%;\n",
              "    cursor: pointer;\n",
              "    display: none;\n",
              "    fill: var(--fill-color);\n",
              "    height: 32px;\n",
              "    padding: 0;\n",
              "    width: 32px;\n",
              "  }\n",
              "\n",
              "  .colab-df-quickchart:hover {\n",
              "    background-color: var(--hover-bg-color);\n",
              "    box-shadow: 0 1px 2px rgba(60, 64, 67, 0.3), 0 1px 3px 1px rgba(60, 64, 67, 0.15);\n",
              "    fill: var(--button-hover-fill-color);\n",
              "  }\n",
              "\n",
              "  .colab-df-quickchart-complete:disabled,\n",
              "  .colab-df-quickchart-complete:disabled:hover {\n",
              "    background-color: var(--disabled-bg-color);\n",
              "    fill: var(--disabled-fill-color);\n",
              "    box-shadow: none;\n",
              "  }\n",
              "\n",
              "  .colab-df-spinner {\n",
              "    border: 2px solid var(--fill-color);\n",
              "    border-color: transparent;\n",
              "    border-bottom-color: var(--fill-color);\n",
              "    animation:\n",
              "      spin 1s steps(1) infinite;\n",
              "  }\n",
              "\n",
              "  @keyframes spin {\n",
              "    0% {\n",
              "      border-color: transparent;\n",
              "      border-bottom-color: var(--fill-color);\n",
              "      border-left-color: var(--fill-color);\n",
              "    }\n",
              "    20% {\n",
              "      border-color: transparent;\n",
              "      border-left-color: var(--fill-color);\n",
              "      border-top-color: var(--fill-color);\n",
              "    }\n",
              "    30% {\n",
              "      border-color: transparent;\n",
              "      border-left-color: var(--fill-color);\n",
              "      border-top-color: var(--fill-color);\n",
              "      border-right-color: var(--fill-color);\n",
              "    }\n",
              "    40% {\n",
              "      border-color: transparent;\n",
              "      border-right-color: var(--fill-color);\n",
              "      border-top-color: var(--fill-color);\n",
              "    }\n",
              "    60% {\n",
              "      border-color: transparent;\n",
              "      border-right-color: var(--fill-color);\n",
              "    }\n",
              "    80% {\n",
              "      border-color: transparent;\n",
              "      border-right-color: var(--fill-color);\n",
              "      border-bottom-color: var(--fill-color);\n",
              "    }\n",
              "    90% {\n",
              "      border-color: transparent;\n",
              "      border-bottom-color: var(--fill-color);\n",
              "    }\n",
              "  }\n",
              "</style>\n",
              "\n",
              "  <script>\n",
              "    async function quickchart(key) {\n",
              "      const quickchartButtonEl =\n",
              "        document.querySelector('#' + key + ' button');\n",
              "      quickchartButtonEl.disabled = true;  // To prevent multiple clicks.\n",
              "      quickchartButtonEl.classList.add('colab-df-spinner');\n",
              "      try {\n",
              "        const charts = await google.colab.kernel.invokeFunction(\n",
              "            'suggestCharts', [key], {});\n",
              "      } catch (error) {\n",
              "        console.error('Error during call to suggestCharts:', error);\n",
              "      }\n",
              "      quickchartButtonEl.classList.remove('colab-df-spinner');\n",
              "      quickchartButtonEl.classList.add('colab-df-quickchart-complete');\n",
              "    }\n",
              "    (() => {\n",
              "      let quickchartButtonEl =\n",
              "        document.querySelector('#df-a28c304b-62d1-4cfb-ae8f-61b6188a7604 button');\n",
              "      quickchartButtonEl.style.display =\n",
              "        google.colab.kernel.accessAllowed ? 'block' : 'none';\n",
              "    })();\n",
              "  </script>\n",
              "</div>\n",
              "    </div>\n",
              "  </div>\n"
            ]
          },
          "metadata": {},
          "execution_count": 4
        }
      ]
    },
    {
      "cell_type": "markdown",
      "source": [
        "* This dataset contains only numerical input variables resulting from a PCA transformation (information value standardized numerically). Due to confidentiality issues, the original features or additional background information about the data were not provided.\n",
        "\n",
        "* Features V1 to V28 represent the principal components obtained through PCA. The only features not transformed with PCA are 'Time' and 'Amount'.\n",
        "\n",
        "* 'Time': Represents the seconds elapsed between each transaction and the first transaction in the dataset.\n",
        "\n",
        "* 'Amount': Represents the transaction amount.\n",
        "\n",
        "* 'Class': Indicates whether a transaction is fraudulent (1) or not (0)."
      ],
      "metadata": {
        "id": "3Q-Izj2VGTBZ"
      }
    },
    {
      "cell_type": "code",
      "source": [
        "setup(df, target='Class', session_id=122) #to use gpu add \"use_gpu=True\""
      ],
      "metadata": {
        "colab": {
          "base_uri": "https://localhost:8080/",
          "height": 663
        },
        "id": "861BWs6dDDxs",
        "outputId": "42aa418b-5ce8-42cf-feb9-dbae0314c52e"
      },
      "execution_count": 6,
      "outputs": [
        {
          "output_type": "display_data",
          "data": {
            "text/plain": [
              "<pandas.io.formats.style.Styler at 0x795541219450>"
            ],
            "text/html": [
              "<style type=\"text/css\">\n",
              "#T_7a5b3_row8_col1 {\n",
              "  background-color: lightgreen;\n",
              "}\n",
              "</style>\n",
              "<table id=\"T_7a5b3\" class=\"dataframe\">\n",
              "  <thead>\n",
              "    <tr>\n",
              "      <th class=\"blank level0\" >&nbsp;</th>\n",
              "      <th id=\"T_7a5b3_level0_col0\" class=\"col_heading level0 col0\" >Description</th>\n",
              "      <th id=\"T_7a5b3_level0_col1\" class=\"col_heading level0 col1\" >Value</th>\n",
              "    </tr>\n",
              "  </thead>\n",
              "  <tbody>\n",
              "    <tr>\n",
              "      <th id=\"T_7a5b3_level0_row0\" class=\"row_heading level0 row0\" >0</th>\n",
              "      <td id=\"T_7a5b3_row0_col0\" class=\"data row0 col0\" >Session id</td>\n",
              "      <td id=\"T_7a5b3_row0_col1\" class=\"data row0 col1\" >122</td>\n",
              "    </tr>\n",
              "    <tr>\n",
              "      <th id=\"T_7a5b3_level0_row1\" class=\"row_heading level0 row1\" >1</th>\n",
              "      <td id=\"T_7a5b3_row1_col0\" class=\"data row1 col0\" >Target</td>\n",
              "      <td id=\"T_7a5b3_row1_col1\" class=\"data row1 col1\" >Class</td>\n",
              "    </tr>\n",
              "    <tr>\n",
              "      <th id=\"T_7a5b3_level0_row2\" class=\"row_heading level0 row2\" >2</th>\n",
              "      <td id=\"T_7a5b3_row2_col0\" class=\"data row2 col0\" >Target type</td>\n",
              "      <td id=\"T_7a5b3_row2_col1\" class=\"data row2 col1\" >Binary</td>\n",
              "    </tr>\n",
              "    <tr>\n",
              "      <th id=\"T_7a5b3_level0_row3\" class=\"row_heading level0 row3\" >3</th>\n",
              "      <td id=\"T_7a5b3_row3_col0\" class=\"data row3 col0\" >Original data shape</td>\n",
              "      <td id=\"T_7a5b3_row3_col1\" class=\"data row3 col1\" >(284807, 31)</td>\n",
              "    </tr>\n",
              "    <tr>\n",
              "      <th id=\"T_7a5b3_level0_row4\" class=\"row_heading level0 row4\" >4</th>\n",
              "      <td id=\"T_7a5b3_row4_col0\" class=\"data row4 col0\" >Transformed data shape</td>\n",
              "      <td id=\"T_7a5b3_row4_col1\" class=\"data row4 col1\" >(284807, 31)</td>\n",
              "    </tr>\n",
              "    <tr>\n",
              "      <th id=\"T_7a5b3_level0_row5\" class=\"row_heading level0 row5\" >5</th>\n",
              "      <td id=\"T_7a5b3_row5_col0\" class=\"data row5 col0\" >Transformed train set shape</td>\n",
              "      <td id=\"T_7a5b3_row5_col1\" class=\"data row5 col1\" >(199364, 31)</td>\n",
              "    </tr>\n",
              "    <tr>\n",
              "      <th id=\"T_7a5b3_level0_row6\" class=\"row_heading level0 row6\" >6</th>\n",
              "      <td id=\"T_7a5b3_row6_col0\" class=\"data row6 col0\" >Transformed test set shape</td>\n",
              "      <td id=\"T_7a5b3_row6_col1\" class=\"data row6 col1\" >(85443, 31)</td>\n",
              "    </tr>\n",
              "    <tr>\n",
              "      <th id=\"T_7a5b3_level0_row7\" class=\"row_heading level0 row7\" >7</th>\n",
              "      <td id=\"T_7a5b3_row7_col0\" class=\"data row7 col0\" >Numeric features</td>\n",
              "      <td id=\"T_7a5b3_row7_col1\" class=\"data row7 col1\" >30</td>\n",
              "    </tr>\n",
              "    <tr>\n",
              "      <th id=\"T_7a5b3_level0_row8\" class=\"row_heading level0 row8\" >8</th>\n",
              "      <td id=\"T_7a5b3_row8_col0\" class=\"data row8 col0\" >Preprocess</td>\n",
              "      <td id=\"T_7a5b3_row8_col1\" class=\"data row8 col1\" >True</td>\n",
              "    </tr>\n",
              "    <tr>\n",
              "      <th id=\"T_7a5b3_level0_row9\" class=\"row_heading level0 row9\" >9</th>\n",
              "      <td id=\"T_7a5b3_row9_col0\" class=\"data row9 col0\" >Imputation type</td>\n",
              "      <td id=\"T_7a5b3_row9_col1\" class=\"data row9 col1\" >simple</td>\n",
              "    </tr>\n",
              "    <tr>\n",
              "      <th id=\"T_7a5b3_level0_row10\" class=\"row_heading level0 row10\" >10</th>\n",
              "      <td id=\"T_7a5b3_row10_col0\" class=\"data row10 col0\" >Numeric imputation</td>\n",
              "      <td id=\"T_7a5b3_row10_col1\" class=\"data row10 col1\" >mean</td>\n",
              "    </tr>\n",
              "    <tr>\n",
              "      <th id=\"T_7a5b3_level0_row11\" class=\"row_heading level0 row11\" >11</th>\n",
              "      <td id=\"T_7a5b3_row11_col0\" class=\"data row11 col0\" >Categorical imputation</td>\n",
              "      <td id=\"T_7a5b3_row11_col1\" class=\"data row11 col1\" >mode</td>\n",
              "    </tr>\n",
              "    <tr>\n",
              "      <th id=\"T_7a5b3_level0_row12\" class=\"row_heading level0 row12\" >12</th>\n",
              "      <td id=\"T_7a5b3_row12_col0\" class=\"data row12 col0\" >Fold Generator</td>\n",
              "      <td id=\"T_7a5b3_row12_col1\" class=\"data row12 col1\" >StratifiedKFold</td>\n",
              "    </tr>\n",
              "    <tr>\n",
              "      <th id=\"T_7a5b3_level0_row13\" class=\"row_heading level0 row13\" >13</th>\n",
              "      <td id=\"T_7a5b3_row13_col0\" class=\"data row13 col0\" >Fold Number</td>\n",
              "      <td id=\"T_7a5b3_row13_col1\" class=\"data row13 col1\" >10</td>\n",
              "    </tr>\n",
              "    <tr>\n",
              "      <th id=\"T_7a5b3_level0_row14\" class=\"row_heading level0 row14\" >14</th>\n",
              "      <td id=\"T_7a5b3_row14_col0\" class=\"data row14 col0\" >CPU Jobs</td>\n",
              "      <td id=\"T_7a5b3_row14_col1\" class=\"data row14 col1\" >-1</td>\n",
              "    </tr>\n",
              "    <tr>\n",
              "      <th id=\"T_7a5b3_level0_row15\" class=\"row_heading level0 row15\" >15</th>\n",
              "      <td id=\"T_7a5b3_row15_col0\" class=\"data row15 col0\" >Use GPU</td>\n",
              "      <td id=\"T_7a5b3_row15_col1\" class=\"data row15 col1\" >False</td>\n",
              "    </tr>\n",
              "    <tr>\n",
              "      <th id=\"T_7a5b3_level0_row16\" class=\"row_heading level0 row16\" >16</th>\n",
              "      <td id=\"T_7a5b3_row16_col0\" class=\"data row16 col0\" >Log Experiment</td>\n",
              "      <td id=\"T_7a5b3_row16_col1\" class=\"data row16 col1\" >False</td>\n",
              "    </tr>\n",
              "    <tr>\n",
              "      <th id=\"T_7a5b3_level0_row17\" class=\"row_heading level0 row17\" >17</th>\n",
              "      <td id=\"T_7a5b3_row17_col0\" class=\"data row17 col0\" >Experiment Name</td>\n",
              "      <td id=\"T_7a5b3_row17_col1\" class=\"data row17 col1\" >clf-default-name</td>\n",
              "    </tr>\n",
              "    <tr>\n",
              "      <th id=\"T_7a5b3_level0_row18\" class=\"row_heading level0 row18\" >18</th>\n",
              "      <td id=\"T_7a5b3_row18_col0\" class=\"data row18 col0\" >USI</td>\n",
              "      <td id=\"T_7a5b3_row18_col1\" class=\"data row18 col1\" >fb17</td>\n",
              "    </tr>\n",
              "  </tbody>\n",
              "</table>\n"
            ]
          },
          "metadata": {}
        },
        {
          "output_type": "execute_result",
          "data": {
            "text/plain": [
              "<pycaret.classification.oop.ClassificationExperiment at 0x7955413be320>"
            ]
          },
          "metadata": {},
          "execution_count": 6
        }
      ]
    },
    {
      "cell_type": "markdown",
      "source": [
        "#### *Additional Info*"
      ],
      "metadata": {
        "id": "oVfzAV_aJqe6"
      }
    },
    {
      "cell_type": "markdown",
      "source": [
        "* Session id: A unique identifier for your PyCaret session, which is typically an internal reference.\n",
        "\n",
        "* Target Class: The 'Class' label to be predicted or the dependent variable\n",
        "\n",
        "* Target type: Defines the problem type (classification)\n",
        "\n",
        "* Original data shape: Size of data (284,807 rows and 31 columns).\n",
        "\n",
        "* Transformed data shape: The shape of the dataset after preprocessing.\n",
        "\n",
        "* Transformed train set shape: The size of training dataset (199,364 rows and 31 columns).\n",
        "\n",
        "* Transformed test set shape: The size of test dataset used for model evaluation (85,443 rows and 31 columns).\n",
        "\n",
        "* Numeric features: The number of numeric features in the dataset.\n",
        "\n",
        "* Preprocess: Indicates whether preprocessing steps have been applied to the data.\n",
        "\n",
        "* Imputation type: Specifies the type of imputation method used for handling missing values.\n",
        "\n",
        "* Numeric imputation: The specific imputation method used for numeric features. It's set to \"mean,\" which means that missing values in numeric features have been imputed with the mean of the non-missing values.\n",
        "\n",
        "* Categorical imputation: The specific imputation method used for categorical features. It's set to \"mode,\" which means that missing values in categorical features have been imputed with the mode (most frequent category) of the non-missing values.\n",
        "\n",
        "* Fold Generator: Generating folds during cross-validation. \"StratifiedKFold,\"  ensures each fold has a similar distribution of the target variable.\n",
        "\n",
        "* Fold Number: The number of folds used for cross-validation.\n",
        "\n",
        "* CPU Jobs: The number of CPU cores used for parallel processing.\n",
        "\n",
        "* Use GPU: Indicates whether a GPU is used for computation.\n",
        "\n",
        "* Log Experiment: Log the details of the experiment.\n",
        "\n",
        "* Experiment Name: The name for the current experiment.\n",
        "\n",
        "* USI: An identifier for the User Specific Information, which can be used to track or reference a specific user's experiment or session.\n",
        "\n",
        "These values provide an overview of the session and its settings, including data preprocessing, model configuration, and experiment details within PyCaret."
      ],
      "metadata": {
        "id": "Hv2Ms9svoGu7"
      }
    },
    {
      "cell_type": "markdown",
      "source": [
        "### Model Training, Comparison & Evaluation Metrics (1)"
      ],
      "metadata": {
        "id": "ZfAsBxHRmZS5"
      }
    },
    {
      "cell_type": "code",
      "source": [
        "best_model = compare_models()\n"
      ],
      "metadata": {
        "colab": {
          "base_uri": "https://localhost:8080/",
          "height": 520,
          "referenced_widgets": [
            "192570b0dd2a4260aee8c0df9eb95524",
            "c8443f0ee3ec4bb6bfe7d89c4a8dba1b",
            "23fe9c24d1f14f17958fdcfa0d823536",
            "0e06fce611644cc48216876f06c1c3f8",
            "67831414f53040e883f2e1f1416639b0",
            "9f925d4f010a4167a906bcb8af24af0a",
            "be5ecb4964c942afbcf9bf864a74c530",
            "767f7785b7154ee4abe27580f577d7fc",
            "f14de0a64a4245c18a80e53d84217bc2",
            "1a3fae712a7742c2b9e355418b971e50",
            "04fc703d82be4c25adb676477e1cee19"
          ]
        },
        "id": "5iulLDsbDTy5",
        "outputId": "e1ba8cb9-60d3-41f5-9d18-4b94d52f53a5"
      },
      "execution_count": 9,
      "outputs": [
        {
          "output_type": "display_data",
          "data": {
            "text/plain": [
              "<IPython.core.display.HTML object>"
            ],
            "text/html": []
          },
          "metadata": {}
        },
        {
          "output_type": "display_data",
          "data": {
            "text/plain": [
              "<pandas.io.formats.style.Styler at 0x79554e403ac0>"
            ],
            "text/html": [
              "<style type=\"text/css\">\n",
              "#T_94564 th {\n",
              "  text-align: left;\n",
              "}\n",
              "#T_94564_row0_col0, #T_94564_row0_col2, #T_94564_row0_col3, #T_94564_row0_col4, #T_94564_row1_col0, #T_94564_row1_col2, #T_94564_row1_col3, #T_94564_row1_col4, #T_94564_row1_col5, #T_94564_row1_col6, #T_94564_row1_col7, #T_94564_row2_col0, #T_94564_row2_col2, #T_94564_row2_col3, #T_94564_row2_col5, #T_94564_row2_col6, #T_94564_row2_col7, #T_94564_row3_col0, #T_94564_row3_col1, #T_94564_row3_col2, #T_94564_row3_col3, #T_94564_row3_col4, #T_94564_row3_col5, #T_94564_row3_col6, #T_94564_row3_col7, #T_94564_row4_col0, #T_94564_row4_col1, #T_94564_row4_col2, #T_94564_row4_col3, #T_94564_row4_col4, #T_94564_row4_col5, #T_94564_row4_col6, #T_94564_row4_col7, #T_94564_row5_col0, #T_94564_row5_col1, #T_94564_row5_col3, #T_94564_row5_col4, #T_94564_row5_col5, #T_94564_row5_col6, #T_94564_row5_col7, #T_94564_row6_col0, #T_94564_row6_col1, #T_94564_row6_col2, #T_94564_row6_col3, #T_94564_row6_col4, #T_94564_row6_col5, #T_94564_row6_col6, #T_94564_row6_col7, #T_94564_row7_col0, #T_94564_row7_col1, #T_94564_row7_col2, #T_94564_row7_col3, #T_94564_row7_col4, #T_94564_row7_col5, #T_94564_row7_col6, #T_94564_row7_col7, #T_94564_row8_col0, #T_94564_row8_col1, #T_94564_row8_col2, #T_94564_row8_col3, #T_94564_row8_col4, #T_94564_row8_col5, #T_94564_row8_col6, #T_94564_row8_col7, #T_94564_row9_col0, #T_94564_row9_col1, #T_94564_row9_col2, #T_94564_row9_col3, #T_94564_row9_col4, #T_94564_row9_col5, #T_94564_row9_col6, #T_94564_row9_col7, #T_94564_row10_col0, #T_94564_row10_col1, #T_94564_row10_col2, #T_94564_row10_col3, #T_94564_row10_col4, #T_94564_row10_col5, #T_94564_row10_col6, #T_94564_row10_col7, #T_94564_row11_col0, #T_94564_row11_col1, #T_94564_row11_col2, #T_94564_row11_col3, #T_94564_row11_col4, #T_94564_row11_col5, #T_94564_row11_col6, #T_94564_row11_col7, #T_94564_row12_col0, #T_94564_row12_col1, #T_94564_row12_col2, #T_94564_row12_col3, #T_94564_row12_col4, #T_94564_row12_col5, #T_94564_row12_col6, #T_94564_row12_col7, #T_94564_row13_col0, #T_94564_row13_col1, #T_94564_row13_col2, #T_94564_row13_col3, #T_94564_row13_col4, #T_94564_row13_col5, #T_94564_row13_col6, #T_94564_row13_col7, #T_94564_row14_col0, #T_94564_row14_col1, #T_94564_row14_col2, #T_94564_row14_col4, #T_94564_row14_col5, #T_94564_row14_col6, #T_94564_row14_col7 {\n",
              "  text-align: left;\n",
              "}\n",
              "#T_94564_row0_col1, #T_94564_row0_col5, #T_94564_row0_col6, #T_94564_row0_col7, #T_94564_row1_col1, #T_94564_row2_col1, #T_94564_row2_col4, #T_94564_row5_col2, #T_94564_row14_col3 {\n",
              "  text-align: left;\n",
              "  background-color: yellow;\n",
              "}\n",
              "#T_94564_row0_col8, #T_94564_row1_col8, #T_94564_row2_col8, #T_94564_row3_col8, #T_94564_row4_col8, #T_94564_row5_col8, #T_94564_row6_col8, #T_94564_row7_col8, #T_94564_row8_col8, #T_94564_row9_col8, #T_94564_row11_col8, #T_94564_row12_col8, #T_94564_row13_col8, #T_94564_row14_col8 {\n",
              "  text-align: left;\n",
              "  background-color: lightgrey;\n",
              "}\n",
              "#T_94564_row10_col8 {\n",
              "  text-align: left;\n",
              "  background-color: yellow;\n",
              "  background-color: lightgrey;\n",
              "}\n",
              "</style>\n",
              "<table id=\"T_94564\" class=\"dataframe\">\n",
              "  <thead>\n",
              "    <tr>\n",
              "      <th class=\"blank level0\" >&nbsp;</th>\n",
              "      <th id=\"T_94564_level0_col0\" class=\"col_heading level0 col0\" >Model</th>\n",
              "      <th id=\"T_94564_level0_col1\" class=\"col_heading level0 col1\" >Accuracy</th>\n",
              "      <th id=\"T_94564_level0_col2\" class=\"col_heading level0 col2\" >AUC</th>\n",
              "      <th id=\"T_94564_level0_col3\" class=\"col_heading level0 col3\" >Recall</th>\n",
              "      <th id=\"T_94564_level0_col4\" class=\"col_heading level0 col4\" >Prec.</th>\n",
              "      <th id=\"T_94564_level0_col5\" class=\"col_heading level0 col5\" >F1</th>\n",
              "      <th id=\"T_94564_level0_col6\" class=\"col_heading level0 col6\" >Kappa</th>\n",
              "      <th id=\"T_94564_level0_col7\" class=\"col_heading level0 col7\" >MCC</th>\n",
              "      <th id=\"T_94564_level0_col8\" class=\"col_heading level0 col8\" >TT (Sec)</th>\n",
              "    </tr>\n",
              "  </thead>\n",
              "  <tbody>\n",
              "    <tr>\n",
              "      <th id=\"T_94564_level0_row0\" class=\"row_heading level0 row0\" >rf</th>\n",
              "      <td id=\"T_94564_row0_col0\" class=\"data row0 col0\" >Random Forest Classifier</td>\n",
              "      <td id=\"T_94564_row0_col1\" class=\"data row0 col1\" >0.9996</td>\n",
              "      <td id=\"T_94564_row0_col2\" class=\"data row0 col2\" >0.9524</td>\n",
              "      <td id=\"T_94564_row0_col3\" class=\"data row0 col3\" >0.8115</td>\n",
              "      <td id=\"T_94564_row0_col4\" class=\"data row0 col4\" >0.9593</td>\n",
              "      <td id=\"T_94564_row0_col5\" class=\"data row0 col5\" >0.8781</td>\n",
              "      <td id=\"T_94564_row0_col6\" class=\"data row0 col6\" >0.8779</td>\n",
              "      <td id=\"T_94564_row0_col7\" class=\"data row0 col7\" >0.8816</td>\n",
              "      <td id=\"T_94564_row0_col8\" class=\"data row0 col8\" >194.0820</td>\n",
              "    </tr>\n",
              "    <tr>\n",
              "      <th id=\"T_94564_level0_row1\" class=\"row_heading level0 row1\" >et</th>\n",
              "      <td id=\"T_94564_row1_col0\" class=\"data row1 col0\" >Extra Trees Classifier</td>\n",
              "      <td id=\"T_94564_row1_col1\" class=\"data row1 col1\" >0.9996</td>\n",
              "      <td id=\"T_94564_row1_col2\" class=\"data row1 col2\" >0.9508</td>\n",
              "      <td id=\"T_94564_row1_col3\" class=\"data row1 col3\" >0.8085</td>\n",
              "      <td id=\"T_94564_row1_col4\" class=\"data row1 col4\" >0.9622</td>\n",
              "      <td id=\"T_94564_row1_col5\" class=\"data row1 col5\" >0.8776</td>\n",
              "      <td id=\"T_94564_row1_col6\" class=\"data row1 col6\" >0.8774</td>\n",
              "      <td id=\"T_94564_row1_col7\" class=\"data row1 col7\" >0.8813</td>\n",
              "      <td id=\"T_94564_row1_col8\" class=\"data row1 col8\" >20.8730</td>\n",
              "    </tr>\n",
              "    <tr>\n",
              "      <th id=\"T_94564_level0_row2\" class=\"row_heading level0 row2\" >xgboost</th>\n",
              "      <td id=\"T_94564_row2_col0\" class=\"data row2 col0\" >Extreme Gradient Boosting</td>\n",
              "      <td id=\"T_94564_row2_col1\" class=\"data row2 col1\" >0.9996</td>\n",
              "      <td id=\"T_94564_row2_col2\" class=\"data row2 col2\" >0.9815</td>\n",
              "      <td id=\"T_94564_row2_col3\" class=\"data row2 col3\" >0.8027</td>\n",
              "      <td id=\"T_94564_row2_col4\" class=\"data row2 col4\" >0.9653</td>\n",
              "      <td id=\"T_94564_row2_col5\" class=\"data row2 col5\" >0.8757</td>\n",
              "      <td id=\"T_94564_row2_col6\" class=\"data row2 col6\" >0.8755</td>\n",
              "      <td id=\"T_94564_row2_col7\" class=\"data row2 col7\" >0.8796</td>\n",
              "      <td id=\"T_94564_row2_col8\" class=\"data row2 col8\" >3.9460</td>\n",
              "    </tr>\n",
              "    <tr>\n",
              "      <th id=\"T_94564_level0_row3\" class=\"row_heading level0 row3\" >lda</th>\n",
              "      <td id=\"T_94564_row3_col0\" class=\"data row3 col0\" >Linear Discriminant Analysis</td>\n",
              "      <td id=\"T_94564_row3_col1\" class=\"data row3 col1\" >0.9994</td>\n",
              "      <td id=\"T_94564_row3_col2\" class=\"data row3 col2\" >0.9114</td>\n",
              "      <td id=\"T_94564_row3_col3\" class=\"data row3 col3\" >0.7855</td>\n",
              "      <td id=\"T_94564_row3_col4\" class=\"data row3 col4\" >0.8588</td>\n",
              "      <td id=\"T_94564_row3_col5\" class=\"data row3 col5\" >0.8180</td>\n",
              "      <td id=\"T_94564_row3_col6\" class=\"data row3 col6\" >0.8177</td>\n",
              "      <td id=\"T_94564_row3_col7\" class=\"data row3 col7\" >0.8198</td>\n",
              "      <td id=\"T_94564_row3_col8\" class=\"data row3 col8\" >1.5990</td>\n",
              "    </tr>\n",
              "    <tr>\n",
              "      <th id=\"T_94564_level0_row4\" class=\"row_heading level0 row4\" >dt</th>\n",
              "      <td id=\"T_94564_row4_col0\" class=\"data row4 col0\" >Decision Tree Classifier</td>\n",
              "      <td id=\"T_94564_row4_col1\" class=\"data row4 col1\" >0.9993</td>\n",
              "      <td id=\"T_94564_row4_col2\" class=\"data row4 col2\" >0.8867</td>\n",
              "      <td id=\"T_94564_row4_col3\" class=\"data row4 col3\" >0.7737</td>\n",
              "      <td id=\"T_94564_row4_col4\" class=\"data row4 col4\" >0.7920</td>\n",
              "      <td id=\"T_94564_row4_col5\" class=\"data row4 col5\" >0.7818</td>\n",
              "      <td id=\"T_94564_row4_col6\" class=\"data row4 col6\" >0.7815</td>\n",
              "      <td id=\"T_94564_row4_col7\" class=\"data row4 col7\" >0.7820</td>\n",
              "      <td id=\"T_94564_row4_col8\" class=\"data row4 col8\" >16.2740</td>\n",
              "    </tr>\n",
              "    <tr>\n",
              "      <th id=\"T_94564_level0_row5\" class=\"row_heading level0 row5\" >ada</th>\n",
              "      <td id=\"T_94564_row5_col0\" class=\"data row5 col0\" >Ada Boost Classifier</td>\n",
              "      <td id=\"T_94564_row5_col1\" class=\"data row5 col1\" >0.9993</td>\n",
              "      <td id=\"T_94564_row5_col2\" class=\"data row5 col2\" >0.9829</td>\n",
              "      <td id=\"T_94564_row5_col3\" class=\"data row5 col3\" >0.7184</td>\n",
              "      <td id=\"T_94564_row5_col4\" class=\"data row5 col4\" >0.8388</td>\n",
              "      <td id=\"T_94564_row5_col5\" class=\"data row5 col5\" >0.7726</td>\n",
              "      <td id=\"T_94564_row5_col6\" class=\"data row5 col6\" >0.7722</td>\n",
              "      <td id=\"T_94564_row5_col7\" class=\"data row5 col7\" >0.7752</td>\n",
              "      <td id=\"T_94564_row5_col8\" class=\"data row5 col8\" >56.3480</td>\n",
              "    </tr>\n",
              "    <tr>\n",
              "      <th id=\"T_94564_level0_row6\" class=\"row_heading level0 row6\" >lr</th>\n",
              "      <td id=\"T_94564_row6_col0\" class=\"data row6 col0\" >Logistic Regression</td>\n",
              "      <td id=\"T_94564_row6_col1\" class=\"data row6 col1\" >0.9992</td>\n",
              "      <td id=\"T_94564_row6_col2\" class=\"data row6 col2\" >0.9522</td>\n",
              "      <td id=\"T_94564_row6_col3\" class=\"data row6 col3\" >0.6317</td>\n",
              "      <td id=\"T_94564_row6_col4\" class=\"data row6 col4\" >0.8386</td>\n",
              "      <td id=\"T_94564_row6_col5\" class=\"data row6 col5\" >0.7177</td>\n",
              "      <td id=\"T_94564_row6_col6\" class=\"data row6 col6\" >0.7172</td>\n",
              "      <td id=\"T_94564_row6_col7\" class=\"data row6 col7\" >0.7259</td>\n",
              "      <td id=\"T_94564_row6_col8\" class=\"data row6 col8\" >11.9290</td>\n",
              "    </tr>\n",
              "    <tr>\n",
              "      <th id=\"T_94564_level0_row7\" class=\"row_heading level0 row7\" >gbc</th>\n",
              "      <td id=\"T_94564_row7_col0\" class=\"data row7 col0\" >Gradient Boosting Classifier</td>\n",
              "      <td id=\"T_94564_row7_col1\" class=\"data row7 col1\" >0.9990</td>\n",
              "      <td id=\"T_94564_row7_col2\" class=\"data row7 col2\" >0.6653</td>\n",
              "      <td id=\"T_94564_row7_col3\" class=\"data row7 col3\" >0.5460</td>\n",
              "      <td id=\"T_94564_row7_col4\" class=\"data row7 col4\" >0.8299</td>\n",
              "      <td id=\"T_94564_row7_col5\" class=\"data row7 col5\" >0.6267</td>\n",
              "      <td id=\"T_94564_row7_col6\" class=\"data row7 col6\" >0.6263</td>\n",
              "      <td id=\"T_94564_row7_col7\" class=\"data row7 col7\" >0.6542</td>\n",
              "      <td id=\"T_94564_row7_col8\" class=\"data row7 col8\" >301.7730</td>\n",
              "    </tr>\n",
              "    <tr>\n",
              "      <th id=\"T_94564_level0_row8\" class=\"row_heading level0 row8\" >ridge</th>\n",
              "      <td id=\"T_94564_row8_col0\" class=\"data row8 col0\" >Ridge Classifier</td>\n",
              "      <td id=\"T_94564_row8_col1\" class=\"data row8 col1\" >0.9988</td>\n",
              "      <td id=\"T_94564_row8_col2\" class=\"data row8 col2\" >0.0000</td>\n",
              "      <td id=\"T_94564_row8_col3\" class=\"data row8 col3\" >0.4226</td>\n",
              "      <td id=\"T_94564_row8_col4\" class=\"data row8 col4\" >0.8156</td>\n",
              "      <td id=\"T_94564_row8_col5\" class=\"data row8 col5\" >0.5494</td>\n",
              "      <td id=\"T_94564_row8_col6\" class=\"data row8 col6\" >0.5489</td>\n",
              "      <td id=\"T_94564_row8_col7\" class=\"data row8 col7\" >0.5822</td>\n",
              "      <td id=\"T_94564_row8_col8\" class=\"data row8 col8\" >0.2640</td>\n",
              "    </tr>\n",
              "    <tr>\n",
              "      <th id=\"T_94564_level0_row9\" class=\"row_heading level0 row9\" >knn</th>\n",
              "      <td id=\"T_94564_row9_col0\" class=\"data row9 col0\" >K Neighbors Classifier</td>\n",
              "      <td id=\"T_94564_row9_col1\" class=\"data row9 col1\" >0.9984</td>\n",
              "      <td id=\"T_94564_row9_col2\" class=\"data row9 col2\" >0.5989</td>\n",
              "      <td id=\"T_94564_row9_col3\" class=\"data row9 col3\" >0.0467</td>\n",
              "      <td id=\"T_94564_row9_col4\" class=\"data row9 col4\" >0.8000</td>\n",
              "      <td id=\"T_94564_row9_col5\" class=\"data row9 col5\" >0.0880</td>\n",
              "      <td id=\"T_94564_row9_col6\" class=\"data row9 col6\" >0.0879</td>\n",
              "      <td id=\"T_94564_row9_col7\" class=\"data row9 col7\" >0.1915</td>\n",
              "      <td id=\"T_94564_row9_col8\" class=\"data row9 col8\" >52.7980</td>\n",
              "    </tr>\n",
              "    <tr>\n",
              "      <th id=\"T_94564_level0_row10\" class=\"row_heading level0 row10\" >dummy</th>\n",
              "      <td id=\"T_94564_row10_col0\" class=\"data row10 col0\" >Dummy Classifier</td>\n",
              "      <td id=\"T_94564_row10_col1\" class=\"data row10 col1\" >0.9983</td>\n",
              "      <td id=\"T_94564_row10_col2\" class=\"data row10 col2\" >0.5000</td>\n",
              "      <td id=\"T_94564_row10_col3\" class=\"data row10 col3\" >0.0000</td>\n",
              "      <td id=\"T_94564_row10_col4\" class=\"data row10 col4\" >0.0000</td>\n",
              "      <td id=\"T_94564_row10_col5\" class=\"data row10 col5\" >0.0000</td>\n",
              "      <td id=\"T_94564_row10_col6\" class=\"data row10 col6\" >0.0000</td>\n",
              "      <td id=\"T_94564_row10_col7\" class=\"data row10 col7\" >0.0000</td>\n",
              "      <td id=\"T_94564_row10_col8\" class=\"data row10 col8\" >0.1810</td>\n",
              "    </tr>\n",
              "    <tr>\n",
              "      <th id=\"T_94564_level0_row11\" class=\"row_heading level0 row11\" >svm</th>\n",
              "      <td id=\"T_94564_row11_col0\" class=\"data row11 col0\" >SVM - Linear Kernel</td>\n",
              "      <td id=\"T_94564_row11_col1\" class=\"data row11 col1\" >0.9982</td>\n",
              "      <td id=\"T_94564_row11_col2\" class=\"data row11 col2\" >0.0000</td>\n",
              "      <td id=\"T_94564_row11_col3\" class=\"data row11 col3\" >0.0088</td>\n",
              "      <td id=\"T_94564_row11_col4\" class=\"data row11 col4\" >0.0300</td>\n",
              "      <td id=\"T_94564_row11_col5\" class=\"data row11 col5\" >0.0136</td>\n",
              "      <td id=\"T_94564_row11_col6\" class=\"data row11 col6\" >0.0135</td>\n",
              "      <td id=\"T_94564_row11_col7\" class=\"data row11 col7\" >0.0161</td>\n",
              "      <td id=\"T_94564_row11_col8\" class=\"data row11 col8\" >9.7070</td>\n",
              "    </tr>\n",
              "    <tr>\n",
              "      <th id=\"T_94564_level0_row12\" class=\"row_heading level0 row12\" >lightgbm</th>\n",
              "      <td id=\"T_94564_row12_col0\" class=\"data row12 col0\" >Light Gradient Boosting Machine</td>\n",
              "      <td id=\"T_94564_row12_col1\" class=\"data row12 col1\" >0.9969</td>\n",
              "      <td id=\"T_94564_row12_col2\" class=\"data row12 col2\" >0.7676</td>\n",
              "      <td id=\"T_94564_row12_col3\" class=\"data row12 col3\" >0.5996</td>\n",
              "      <td id=\"T_94564_row12_col4\" class=\"data row12 col4\" >0.3423</td>\n",
              "      <td id=\"T_94564_row12_col5\" class=\"data row12 col5\" >0.4235</td>\n",
              "      <td id=\"T_94564_row12_col6\" class=\"data row12 col6\" >0.4221</td>\n",
              "      <td id=\"T_94564_row12_col7\" class=\"data row12 col7\" >0.4447</td>\n",
              "      <td id=\"T_94564_row12_col8\" class=\"data row12 col8\" >9.1340</td>\n",
              "    </tr>\n",
              "    <tr>\n",
              "      <th id=\"T_94564_level0_row13\" class=\"row_heading level0 row13\" >nb</th>\n",
              "      <td id=\"T_94564_row13_col0\" class=\"data row13 col0\" >Naive Bayes</td>\n",
              "      <td id=\"T_94564_row13_col1\" class=\"data row13 col1\" >0.9939</td>\n",
              "      <td id=\"T_94564_row13_col2\" class=\"data row13 col2\" >0.9676</td>\n",
              "      <td id=\"T_94564_row13_col3\" class=\"data row13 col3\" >0.6609</td>\n",
              "      <td id=\"T_94564_row13_col4\" class=\"data row13 col4\" >0.1705</td>\n",
              "      <td id=\"T_94564_row13_col5\" class=\"data row13 col5\" >0.2705</td>\n",
              "      <td id=\"T_94564_row13_col6\" class=\"data row13 col6\" >0.2685</td>\n",
              "      <td id=\"T_94564_row13_col7\" class=\"data row13 col7\" >0.3332</td>\n",
              "      <td id=\"T_94564_row13_col8\" class=\"data row13 col8\" >0.3110</td>\n",
              "    </tr>\n",
              "    <tr>\n",
              "      <th id=\"T_94564_level0_row14\" class=\"row_heading level0 row14\" >qda</th>\n",
              "      <td id=\"T_94564_row14_col0\" class=\"data row14 col0\" >Quadratic Discriminant Analysis</td>\n",
              "      <td id=\"T_94564_row14_col1\" class=\"data row14 col1\" >0.9770</td>\n",
              "      <td id=\"T_94564_row14_col2\" class=\"data row14 col2\" >0.9708</td>\n",
              "      <td id=\"T_94564_row14_col3\" class=\"data row14 col3\" >0.8809</td>\n",
              "      <td id=\"T_94564_row14_col4\" class=\"data row14 col4\" >0.0626</td>\n",
              "      <td id=\"T_94564_row14_col5\" class=\"data row14 col5\" >0.1168</td>\n",
              "      <td id=\"T_94564_row14_col6\" class=\"data row14 col6\" >0.1140</td>\n",
              "      <td id=\"T_94564_row14_col7\" class=\"data row14 col7\" >0.2313</td>\n",
              "      <td id=\"T_94564_row14_col8\" class=\"data row14 col8\" >0.9180</td>\n",
              "    </tr>\n",
              "  </tbody>\n",
              "</table>\n"
            ]
          },
          "metadata": {}
        },
        {
          "output_type": "display_data",
          "data": {
            "text/plain": [
              "Processing:   0%|          | 0/65 [00:00<?, ?it/s]"
            ],
            "application/vnd.jupyter.widget-view+json": {
              "version_major": 2,
              "version_minor": 0,
              "model_id": "192570b0dd2a4260aee8c0df9eb95524"
            }
          },
          "metadata": {
            "application/vnd.jupyter.widget-view+json": {
              "colab": {
                "custom_widget_manager": {
                  "url": "https://ssl.gstatic.com/colaboratory-static/widgets/colab-cdn-widget-manager/b3e629b1971e1542/manager.min.js"
                }
              }
            }
          }
        },
        {
          "output_type": "display_data",
          "data": {
            "text/plain": [
              "<IPython.core.display.HTML object>"
            ],
            "text/html": []
          },
          "metadata": {}
        }
      ]
    },
    {
      "cell_type": "markdown",
      "source": [
        "### Evaluation metrics (2)"
      ],
      "metadata": {
        "id": "TqnKjYB3mXAd"
      }
    },
    {
      "cell_type": "markdown",
      "source": [
        "Plots below are used to observe prediction results (Confusion Matrix).\n",
        "\n",
        "The other plots are used as a guideline for model fine tuning."
      ],
      "metadata": {
        "id": "NgdD2AHilx-r"
      }
    },
    {
      "cell_type": "code",
      "source": [
        "evaluate_model(best_model)"
      ],
      "metadata": {
        "colab": {
          "base_uri": "https://localhost:8080/",
          "height": 725,
          "referenced_widgets": [
            "162091872cb848f4bccda8ae10a9e575",
            "790a0ebb8cc141d6841674e7e6711b50",
            "25b6850ca6bf48c194effa7e5befb109",
            "29887e87c5a6426187bc9437c9f926f7",
            "1baf3f92226647dd96a509e9a907acd9",
            "bf045cb1e6d04bc8b942574333047672",
            "f41de583d8ec4c449426f8d942299947"
          ]
        },
        "id": "yQHth46jkTDB",
        "outputId": "d6761e5d-9cbc-4b3a-9b32-b9f6fff21d1f"
      },
      "execution_count": 10,
      "outputs": [
        {
          "output_type": "display_data",
          "data": {
            "text/plain": [
              "interactive(children=(ToggleButtons(description='Plot Type:', icons=('',), options=(('Pipeline Plot', 'pipelin…"
            ],
            "application/vnd.jupyter.widget-view+json": {
              "version_major": 2,
              "version_minor": 0,
              "model_id": "162091872cb848f4bccda8ae10a9e575"
            }
          },
          "metadata": {
            "application/vnd.jupyter.widget-view+json": {
              "colab": {
                "custom_widget_manager": {
                  "url": "https://ssl.gstatic.com/colaboratory-static/widgets/colab-cdn-widget-manager/b3e629b1971e1542/manager.min.js"
                }
              }
            }
          }
        }
      ]
    },
    {
      "cell_type": "markdown",
      "source": [
        "Here's what these values mean in **Confusion Matrix**:\n",
        "\n",
        "- True Negatives (TN): The number of correctly predicted non-fraudulent cases. In our case, it's **85286**. These are the transactions that the model **correctly identified** as **non-fraudulent**.\n",
        "\n",
        "- False Positives (FP): The number of actual non-fraudulent cases that were **incorrectly predicted as fraudulent**. In our case, it's **9**. These are the transactions that were not fraudulent but were incorrectly flagged by the model.\n",
        "\n",
        "- False Negatives (FN): The number of actual fraudulent cases that were **incorrectly predicted as non-fraudulent**. In our case, it's **44**. These are the transactions that were actually fraudulent but were missed by the model.\n",
        "\n",
        "- True Positives (TP): The number of correctly predicted fraudulent cases. In our case, it's **104**. These are the transactions that the model **correctly identified** as **fraudulent**.\n",
        "\n",
        "\n",
        "Analyzing these values helps us understand the model's ability to correctly identify fraudulent transactions (TP) and minimize false negatives (FN). Additionally, we want to keep false positives (FP) to a minimum to avoid unnecessary fraud alerts. The high number of true negatives (TN) indicates the model's ability to correctly identify non-fraudulent transactions.\n",
        "\n",
        "### **Overall, a high TN and TP, along with low FN and FP, suggest strong model performance in fraud detection.**"
      ],
      "metadata": {
        "id": "iA8yLFVPJ02V"
      }
    },
    {
      "cell_type": "markdown",
      "source": [
        "#### *Additional info*"
      ],
      "metadata": {
        "id": "NfhrkidyMf7f"
      }
    },
    {
      "cell_type": "markdown",
      "source": [
        "For the other plots, hyperparameters, learning curve, prediction error and learning curve are what I observe to see the performance and fine-tune"
      ],
      "metadata": {
        "id": "0Vl2LW3pMoa-"
      }
    },
    {
      "cell_type": "markdown",
      "source": [
        "### Predict on Test set"
      ],
      "metadata": {
        "id": "gn2HIyejmPzW"
      }
    },
    {
      "cell_type": "code",
      "source": [
        "pred_holdout = predict_model(best_model)"
      ],
      "metadata": {
        "colab": {
          "base_uri": "https://localhost:8080/",
          "height": 81
        },
        "id": "FgdP93RbkoFv",
        "outputId": "da6b22c3-61c7-474d-b631-ecea2d2e7d25"
      },
      "execution_count": 11,
      "outputs": [
        {
          "output_type": "display_data",
          "data": {
            "text/plain": [
              "<pandas.io.formats.style.Styler at 0x795541071cf0>"
            ],
            "text/html": [
              "<style type=\"text/css\">\n",
              "</style>\n",
              "<table id=\"T_bb665\" class=\"dataframe\">\n",
              "  <thead>\n",
              "    <tr>\n",
              "      <th class=\"blank level0\" >&nbsp;</th>\n",
              "      <th id=\"T_bb665_level0_col0\" class=\"col_heading level0 col0\" >Model</th>\n",
              "      <th id=\"T_bb665_level0_col1\" class=\"col_heading level0 col1\" >Accuracy</th>\n",
              "      <th id=\"T_bb665_level0_col2\" class=\"col_heading level0 col2\" >AUC</th>\n",
              "      <th id=\"T_bb665_level0_col3\" class=\"col_heading level0 col3\" >Recall</th>\n",
              "      <th id=\"T_bb665_level0_col4\" class=\"col_heading level0 col4\" >Prec.</th>\n",
              "      <th id=\"T_bb665_level0_col5\" class=\"col_heading level0 col5\" >F1</th>\n",
              "      <th id=\"T_bb665_level0_col6\" class=\"col_heading level0 col6\" >Kappa</th>\n",
              "      <th id=\"T_bb665_level0_col7\" class=\"col_heading level0 col7\" >MCC</th>\n",
              "    </tr>\n",
              "  </thead>\n",
              "  <tbody>\n",
              "    <tr>\n",
              "      <th id=\"T_bb665_level0_row0\" class=\"row_heading level0 row0\" >0</th>\n",
              "      <td id=\"T_bb665_row0_col0\" class=\"data row0 col0\" >Random Forest Classifier</td>\n",
              "      <td id=\"T_bb665_row0_col1\" class=\"data row0 col1\" >0.9994</td>\n",
              "      <td id=\"T_bb665_row0_col2\" class=\"data row0 col2\" >0.9271</td>\n",
              "      <td id=\"T_bb665_row0_col3\" class=\"data row0 col3\" >0.7027</td>\n",
              "      <td id=\"T_bb665_row0_col4\" class=\"data row0 col4\" >0.9204</td>\n",
              "      <td id=\"T_bb665_row0_col5\" class=\"data row0 col5\" >0.7969</td>\n",
              "      <td id=\"T_bb665_row0_col6\" class=\"data row0 col6\" >0.7966</td>\n",
              "      <td id=\"T_bb665_row0_col7\" class=\"data row0 col7\" >0.8039</td>\n",
              "    </tr>\n",
              "  </tbody>\n",
              "</table>\n"
            ]
          },
          "metadata": {}
        }
      ]
    },
    {
      "cell_type": "markdown",
      "source": [
        "| Model                    | Metric           | Value  | Description                           | Reasoning                                |\n",
        "|--------------------------|------------------|--------|---------------------------------------|------------------------------------------|\n",
        "| Random Forest Classifier | Accuracy         | 0.9994 | Proportion of correctly classified samples | High accuracy indicates overall model performance. |\n",
        "|                          | AUC              | 0.9271 | Area under the ROC curve               | AUC measures the model's ability to distinguish between classes. A high AUC indicates strong discrimination. |\n",
        "|                          | Recall (Sensitivity) | 0.7027 | True positive rate           | High recall indicates the model's ability to capture actual positive cases. |\n",
        "|                          | Precision (Positive Predictive Value) | 0.9204 | True positive rate among predicted positives | High precision indicates low false positive rate. |\n",
        "|                          | F1 Score         | 0.7969 | Harmonic mean of precision and recall | F1 score balances precision and recall. High F1 implies a good trade-off between precision and recall. |\n",
        "|                          | Kappa            | 0.7966 | Cohen's Kappa statistic               | Kappa measures inter-rater agreement. High Kappa indicates strong agreement between predicted and actual values. |\n",
        "|                          | MCC (Matthews Correlation Coefficient) | 0.8039 | Correlation between true and predicted binary classifications | MCC is a balanced metric that accounts for true positives, true negatives, false positives, and false negatives. |\n"
      ],
      "metadata": {
        "id": "O-MbP8n-KP6x"
      }
    },
    {
      "cell_type": "markdown",
      "source": [
        "### Fine Tuning"
      ],
      "metadata": {
        "id": "AZZKgiuBmO8C"
      }
    },
    {
      "cell_type": "code",
      "source": [
        "### Future list:\n",
        "### Hyperparameter tuning\n",
        "### Apply resampling (Might not use it for this dataset)\n",
        "### Currently showing a quick approach of model comparison and not in-depth (not fine-tuned as of now)"
      ],
      "metadata": {
        "id": "68yxa0xRnWQ7"
      },
      "execution_count": 24,
      "outputs": []
    },
    {
      "cell_type": "markdown",
      "source": [
        "### Save the model for future use (saved as a pickle file)"
      ],
      "metadata": {
        "id": "mmFZev-Smodd"
      }
    },
    {
      "cell_type": "code",
      "source": [
        "save_model(best_model, 'final_model')"
      ],
      "metadata": {
        "colab": {
          "base_uri": "https://localhost:8080/"
        },
        "id": "HjdCEQiklZOP",
        "outputId": "9e1046c2-109c-4494-f529-cba007de1986"
      },
      "execution_count": 13,
      "outputs": [
        {
          "output_type": "stream",
          "name": "stdout",
          "text": [
            "Transformation Pipeline and Model Successfully Saved\n"
          ]
        },
        {
          "output_type": "execute_result",
          "data": {
            "text/plain": [
              "(Pipeline(memory=Memory(location=None),\n",
              "          steps=[('numerical_imputer',\n",
              "                  TransformerWrapper(exclude=None,\n",
              "                                     include=['Time', 'V1', 'V2', 'V3', 'V4',\n",
              "                                              'V5', 'V6', 'V7', 'V8', 'V9',\n",
              "                                              'V10', 'V11', 'V12', 'V13', 'V14',\n",
              "                                              'V15', 'V16', 'V17', 'V18', 'V19',\n",
              "                                              'V20', 'V21', 'V22', 'V23', 'V24',\n",
              "                                              'V25', 'V26', 'V27', 'V28',\n",
              "                                              'Amount'],\n",
              "                                     transformer=SimpleImputer(add_indicator=False,\n",
              "                                                               copy=True,\n",
              "                                                               fill_value=...\n",
              "                  RandomForestClassifier(bootstrap=True, ccp_alpha=0.0,\n",
              "                                         class_weight=None, criterion='gini',\n",
              "                                         max_depth=None, max_features='sqrt',\n",
              "                                         max_leaf_nodes=None, max_samples=None,\n",
              "                                         min_impurity_decrease=0.0,\n",
              "                                         min_samples_leaf=1, min_samples_split=2,\n",
              "                                         min_weight_fraction_leaf=0.0,\n",
              "                                         n_estimators=100, n_jobs=-1,\n",
              "                                         oob_score=False, random_state=122,\n",
              "                                         verbose=0, warm_start=False))],\n",
              "          verbose=False),\n",
              " 'final_model.pkl')"
            ]
          },
          "metadata": {},
          "execution_count": 13
        }
      ]
    },
    {
      "cell_type": "markdown",
      "source": [
        "### Predict on new data"
      ],
      "metadata": {
        "id": "_jepi3_wmTd6"
      }
    },
    {
      "cell_type": "code",
      "source": [
        "loaded_model = joblib.load('final_model.pkl')\n",
        "new_data = pd.read_csv('new_data.csv')\n",
        "new_predictions = loaded_model.predict(new_data)"
      ],
      "metadata": {
        "colab": {
          "base_uri": "https://localhost:8080/",
          "height": 17
        },
        "id": "YQRfV34Zk7wZ",
        "outputId": "9ae5093b-5950-4893-df02-9f946fa90652"
      },
      "execution_count": 12,
      "outputs": [
        {
          "output_type": "display_data",
          "data": {
            "text/plain": [
              "<IPython.core.display.HTML object>"
            ],
            "text/html": []
          },
          "metadata": {}
        }
      ]
    },
    {
      "cell_type": "markdown",
      "source": [
        "The code above is to test the model on new dataset (with similar format)"
      ],
      "metadata": {
        "id": "prNpsljaJ5PW"
      }
    }
  ]
}